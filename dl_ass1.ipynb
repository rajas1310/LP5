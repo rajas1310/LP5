{
 "cells": [
  {
   "cell_type": "code",
   "execution_count": 21,
   "id": "8ae42cd7",
   "metadata": {},
   "outputs": [],
   "source": [
    "import tensorflow as tf\n",
    "from tensorflow.keras.datasets import boston_housing\n",
    "from tensorflow.keras.models import Sequential\n",
    "from tensorflow.keras.layers import Dense\n",
    "from sklearn.preprocessing import StandardScaler\n",
    "from sklearn.metrics import mean_absolute_error, mean_squared_error, r2_score"
   ]
  },
  {
   "cell_type": "code",
   "execution_count": 22,
   "id": "25a6ab78",
   "metadata": {},
   "outputs": [
    {
     "data": {
      "text/plain": [
       "<module 'keras.api._v2.keras.datasets.boston_housing' from 'C:\\\\Users\\\\hp\\\\AppData\\\\Roaming\\\\Python\\\\Python39\\\\site-packages\\\\keras\\\\api\\\\_v2\\\\keras\\\\datasets\\\\boston_housing\\\\__init__.py'>"
      ]
     },
     "execution_count": 22,
     "metadata": {},
     "output_type": "execute_result"
    }
   ],
   "source": [
    "boston_housing"
   ]
  },
  {
   "cell_type": "code",
   "execution_count": 23,
   "id": "3cf94a14",
   "metadata": {},
   "outputs": [],
   "source": [
    "(trainx, trainy), (testx, testy) = boston_housing.load_data()"
   ]
  },
  {
   "cell_type": "code",
   "execution_count": 24,
   "id": "1baa5fff",
   "metadata": {},
   "outputs": [],
   "source": [
    "sc = StandardScaler()\n",
    "\n",
    "trainx=sc.fit_transform(trainx)\n",
    "testx=sc.transform(testx)"
   ]
  },
  {
   "cell_type": "code",
   "execution_count": 29,
   "id": "828291cc",
   "metadata": {},
   "outputs": [],
   "source": [
    "model = Sequential()\n",
    "model.add(Dense(128, 'leaky_relu', input_shape=(trainx.shape[1],)))\n",
    "model.add(Dense(64, 'leaky_relu'))\n",
    "model.add(Dense(1))\n",
    "\n",
    "model.compile(optimizer='rmsprop', loss='mse', metrics=['mae'])"
   ]
  },
  {
   "cell_type": "code",
   "execution_count": 33,
   "id": "72959cde",
   "metadata": {
    "scrolled": true
   },
   "outputs": [],
   "source": [
    "hist =  model.fit(trainx, trainy, epochs=100, batch_size=16, verbose=0)"
   ]
  },
  {
   "cell_type": "code",
   "execution_count": 34,
   "id": "268e08a7",
   "metadata": {},
   "outputs": [
    {
     "name": "stdout",
     "output_type": "stream",
     "text": [
      "4/4 [==============================] - 0s 2ms/step - loss: 16.4695 - mae: 2.5388\n"
     ]
    }
   ],
   "source": [
    "test_mse, test_mae = model.evaluate(testx, testy)"
   ]
  },
  {
   "cell_type": "code",
   "execution_count": 35,
   "id": "4a64d18a",
   "metadata": {},
   "outputs": [
    {
     "data": {
      "text/plain": [
       "0.8021532170976275"
      ]
     },
     "execution_count": 35,
     "metadata": {},
     "output_type": "execute_result"
    }
   ],
   "source": [
    "y_pred = model.predict(testx)\n",
    "r2_score(testy, y_pred)"
   ]
  },
  {
   "cell_type": "code",
   "execution_count": null,
   "id": "76951d9c",
   "metadata": {},
   "outputs": [],
   "source": []
  },
  {
   "cell_type": "code",
   "execution_count": null,
   "id": "5a8566d7",
   "metadata": {},
   "outputs": [],
   "source": []
  }
 ],
 "metadata": {
  "kernelspec": {
   "display_name": "Python 3 (ipykernel)",
   "language": "python",
   "name": "python3"
  },
  "language_info": {
   "codemirror_mode": {
    "name": "ipython",
    "version": 3
   },
   "file_extension": ".py",
   "mimetype": "text/x-python",
   "name": "python",
   "nbconvert_exporter": "python",
   "pygments_lexer": "ipython3",
   "version": "3.9.5"
  }
 },
 "nbformat": 4,
 "nbformat_minor": 5
}
